{
 "cells": [
  {
   "cell_type": "code",
   "execution_count": 1,
   "id": "d66a2f49",
   "metadata": {},
   "outputs": [],
   "source": [
    "import acquire as a"
   ]
  },
  {
   "cell_type": "code",
   "execution_count": 2,
   "id": "8b3c8e9e",
   "metadata": {
    "scrolled": true
   },
   "outputs": [
    {
     "name": "stdout",
     "output_type": "stream",
     "text": [
      "\n",
      "The API accepts GET requests for all endpoints, where endpoints are prefixed\n",
      "with\n",
      "\n",
      "    /api/{version}\n",
      "\n",
      "Where version is \"v1\"\n",
      "\n",
      "Valid endpoints:\n",
      "\n",
      "- /stores[/{store_id}]\n",
      "- /items[/{item_id}]\n",
      "- /sales[/{sale_id}]\n",
      "\n",
      "All endpoints accept a `page` parameter that can be used to navigate through\n",
      "the results.\n",
      "\n"
     ]
    }
   ],
   "source": [
    "a.API_doc('https://python.zgulde.net')"
   ]
  },
  {
   "cell_type": "code",
   "execution_count": 3,
   "id": "88cf779d",
   "metadata": {},
   "outputs": [],
   "source": [
    "# a.get_stores(url1 = 'https://python.zgulde.net/api/v1/items', \\\n",
    "#              url2 = 'https://python.zgulde.net/api/v1/stores', \\\n",
    "#              url3 = 'https://python.zgulde.net/api/v1/sales', base_url = 'https://python.zgulde.net')"
   ]
  },
  {
   "cell_type": "code",
   "execution_count": 4,
   "id": "e4f660d7",
   "metadata": {},
   "outputs": [
    {
     "name": "stdout",
     "output_type": "stream",
     "text": [
      "Data is cached. Reading from csv files.\n",
      "✅ Items data acquired\n",
      "✅ Items data acquired\n",
      "✅ Sales data acquired\n",
      "*********************\n",
      "✅Acquisition Complete\n"
     ]
    }
   ],
   "source": [
    "df = a.get_stores()"
   ]
  },
  {
   "cell_type": "code",
   "execution_count": 5,
   "id": "c8641ced",
   "metadata": {},
   "outputs": [
    {
     "data": {
      "text/plain": [
       "(913000, 16)"
      ]
     },
     "execution_count": 5,
     "metadata": {},
     "output_type": "execute_result"
    }
   ],
   "source": [
    "df.shape"
   ]
  },
  {
   "cell_type": "code",
   "execution_count": 6,
   "id": "12ca71a1",
   "metadata": {},
   "outputs": [
    {
     "data": {
      "text/plain": [
       "Index(['item_brand', 'item_id', 'item_name', 'item_price', 'item_upc12',\n",
       "       'item_upc14', 'item', 'sale_amount', 'sale_date', 'sale_id', 'store',\n",
       "       'store_address', 'store_city', 'store_id', 'store_state',\n",
       "       'store_zipcode'],\n",
       "      dtype='object')"
      ]
     },
     "execution_count": 6,
     "metadata": {},
     "output_type": "execute_result"
    }
   ],
   "source": [
    "df.columns"
   ]
  },
  {
   "cell_type": "code",
   "execution_count": 7,
   "id": "48009ded",
   "metadata": {},
   "outputs": [
    {
     "data": {
      "text/html": [
       "<div><div id=a584e9bf-6607-47cd-a3f0-cb6031babe30 style=\"display:none; background-color:#9D6CFF; color:white; width:200px; height:30px; padding-left:5px; border-radius:4px; flex-direction:row; justify-content:space-around; align-items:center;\" onmouseover=\"this.style.backgroundColor='#BA9BF8'\" onmouseout=\"this.style.backgroundColor='#9D6CFF'\" onclick=\"window.commands?.execute('create-mitosheet-from-dataframe-output');\">See Full Dataframe in Mito</div> <script> if (window.commands.hasCommand('create-mitosheet-from-dataframe-output')) document.getElementById('a584e9bf-6607-47cd-a3f0-cb6031babe30').style.display = 'flex' </script> <table border=\"1\" class=\"dataframe\">\n",
       "  <thead>\n",
       "    <tr style=\"text-align: right;\">\n",
       "      <th></th>\n",
       "      <th>item_brand</th>\n",
       "      <th>item_id</th>\n",
       "      <th>item_name</th>\n",
       "      <th>item_price</th>\n",
       "      <th>item_upc12</th>\n",
       "      <th>item_upc14</th>\n",
       "      <th>item</th>\n",
       "      <th>sale_amount</th>\n",
       "      <th>sale_date</th>\n",
       "      <th>sale_id</th>\n",
       "      <th>store</th>\n",
       "      <th>store_address</th>\n",
       "      <th>store_city</th>\n",
       "      <th>store_id</th>\n",
       "      <th>store_state</th>\n",
       "      <th>store_zipcode</th>\n",
       "    </tr>\n",
       "  </thead>\n",
       "  <tbody>\n",
       "    <tr>\n",
       "      <th>0</th>\n",
       "      <td>Riceland</td>\n",
       "      <td>1</td>\n",
       "      <td>Riceland American Jazmine Rice</td>\n",
       "      <td>0.84</td>\n",
       "      <td>35200264013</td>\n",
       "      <td>35200264013</td>\n",
       "      <td>1</td>\n",
       "      <td>13.0</td>\n",
       "      <td>Tue, 01 Jan 2013 00:00:00 GMT</td>\n",
       "      <td>1</td>\n",
       "      <td>1</td>\n",
       "      <td>12125 Alamo Ranch Pkwy</td>\n",
       "      <td>San Antonio</td>\n",
       "      <td>1</td>\n",
       "      <td>TX</td>\n",
       "      <td>78253</td>\n",
       "    </tr>\n",
       "    <tr>\n",
       "      <th>1</th>\n",
       "      <td>Riceland</td>\n",
       "      <td>1</td>\n",
       "      <td>Riceland American Jazmine Rice</td>\n",
       "      <td>0.84</td>\n",
       "      <td>35200264013</td>\n",
       "      <td>35200264013</td>\n",
       "      <td>1</td>\n",
       "      <td>11.0</td>\n",
       "      <td>Wed, 02 Jan 2013 00:00:00 GMT</td>\n",
       "      <td>2</td>\n",
       "      <td>1</td>\n",
       "      <td>12125 Alamo Ranch Pkwy</td>\n",
       "      <td>San Antonio</td>\n",
       "      <td>1</td>\n",
       "      <td>TX</td>\n",
       "      <td>78253</td>\n",
       "    </tr>\n",
       "  </tbody>\n",
       "</table></div>"
      ],
      "text/plain": [
       "  item_brand  item_id                       item_name  item_price  \\\n",
       "0   Riceland        1  Riceland American Jazmine Rice        0.84   \n",
       "1   Riceland        1  Riceland American Jazmine Rice        0.84   \n",
       "\n",
       "    item_upc12   item_upc14  item  sale_amount                      sale_date  \\\n",
       "0  35200264013  35200264013     1         13.0  Tue, 01 Jan 2013 00:00:00 GMT   \n",
       "1  35200264013  35200264013     1         11.0  Wed, 02 Jan 2013 00:00:00 GMT   \n",
       "\n",
       "   sale_id  store           store_address   store_city  store_id store_state  \\\n",
       "0        1      1  12125 Alamo Ranch Pkwy  San Antonio         1          TX   \n",
       "1        2      1  12125 Alamo Ranch Pkwy  San Antonio         1          TX   \n",
       "\n",
       "   store_zipcode  \n",
       "0          78253  \n",
       "1          78253  "
      ]
     },
     "execution_count": 7,
     "metadata": {},
     "output_type": "execute_result"
    }
   ],
   "source": [
    "df.head(2)"
   ]
  },
  {
   "cell_type": "code",
   "execution_count": 8,
   "id": "37a5d010",
   "metadata": {
    "scrolled": true
   },
   "outputs": [],
   "source": [
    "# df.drop(columns = ['index', 'Unnamed: 0_x', 'Unnamed: 0_y', 'Unnamed: 0'])"
   ]
  },
  {
   "cell_type": "code",
   "execution_count": 9,
   "id": "471c0e8b",
   "metadata": {},
   "outputs": [
    {
     "name": "stdout",
     "output_type": "stream",
     "text": [
      "Power data is not cached. Acquiring new data . . .\n",
      "✅ Power data acquired from link\n",
      "✅ Power data cached to local csv\n"
     ]
    },
    {
     "data": {
      "text/html": [
       "<div><div id=3afc2cbb-dc89-44e5-a621-df2a798dbed3 style=\"display:none; background-color:#9D6CFF; color:white; width:200px; height:30px; padding-left:5px; border-radius:4px; flex-direction:row; justify-content:space-around; align-items:center;\" onmouseover=\"this.style.backgroundColor='#BA9BF8'\" onmouseout=\"this.style.backgroundColor='#9D6CFF'\" onclick=\"window.commands?.execute('create-mitosheet-from-dataframe-output');\">See Full Dataframe in Mito</div> <script> if (window.commands.hasCommand('create-mitosheet-from-dataframe-output')) document.getElementById('3afc2cbb-dc89-44e5-a621-df2a798dbed3').style.display = 'flex' </script> <table border=\"1\" class=\"dataframe\">\n",
       "  <thead>\n",
       "    <tr style=\"text-align: right;\">\n",
       "      <th></th>\n",
       "      <th>Date</th>\n",
       "      <th>Consumption</th>\n",
       "      <th>Wind</th>\n",
       "      <th>Solar</th>\n",
       "      <th>Wind+Solar</th>\n",
       "    </tr>\n",
       "  </thead>\n",
       "  <tbody>\n",
       "    <tr>\n",
       "      <th>0</th>\n",
       "      <td>2006-01-01</td>\n",
       "      <td>1069.18400</td>\n",
       "      <td>NaN</td>\n",
       "      <td>NaN</td>\n",
       "      <td>NaN</td>\n",
       "    </tr>\n",
       "    <tr>\n",
       "      <th>1</th>\n",
       "      <td>2006-01-02</td>\n",
       "      <td>1380.52100</td>\n",
       "      <td>NaN</td>\n",
       "      <td>NaN</td>\n",
       "      <td>NaN</td>\n",
       "    </tr>\n",
       "    <tr>\n",
       "      <th>2</th>\n",
       "      <td>2006-01-03</td>\n",
       "      <td>1442.53300</td>\n",
       "      <td>NaN</td>\n",
       "      <td>NaN</td>\n",
       "      <td>NaN</td>\n",
       "    </tr>\n",
       "    <tr>\n",
       "      <th>3</th>\n",
       "      <td>2006-01-04</td>\n",
       "      <td>1457.21700</td>\n",
       "      <td>NaN</td>\n",
       "      <td>NaN</td>\n",
       "      <td>NaN</td>\n",
       "    </tr>\n",
       "    <tr>\n",
       "      <th>4</th>\n",
       "      <td>2006-01-05</td>\n",
       "      <td>1477.13100</td>\n",
       "      <td>NaN</td>\n",
       "      <td>NaN</td>\n",
       "      <td>NaN</td>\n",
       "    </tr>\n",
       "    <tr>\n",
       "      <th>...</th>\n",
       "      <td>...</td>\n",
       "      <td>...</td>\n",
       "      <td>...</td>\n",
       "      <td>...</td>\n",
       "      <td>...</td>\n",
       "    </tr>\n",
       "    <tr>\n",
       "      <th>4378</th>\n",
       "      <td>2017-12-27</td>\n",
       "      <td>1263.94091</td>\n",
       "      <td>394.507</td>\n",
       "      <td>16.530</td>\n",
       "      <td>411.037</td>\n",
       "    </tr>\n",
       "    <tr>\n",
       "      <th>4379</th>\n",
       "      <td>2017-12-28</td>\n",
       "      <td>1299.86398</td>\n",
       "      <td>506.424</td>\n",
       "      <td>14.162</td>\n",
       "      <td>520.586</td>\n",
       "    </tr>\n",
       "    <tr>\n",
       "      <th>4380</th>\n",
       "      <td>2017-12-29</td>\n",
       "      <td>1295.08753</td>\n",
       "      <td>584.277</td>\n",
       "      <td>29.854</td>\n",
       "      <td>614.131</td>\n",
       "    </tr>\n",
       "    <tr>\n",
       "      <th>4381</th>\n",
       "      <td>2017-12-30</td>\n",
       "      <td>1215.44897</td>\n",
       "      <td>721.247</td>\n",
       "      <td>7.467</td>\n",
       "      <td>728.714</td>\n",
       "    </tr>\n",
       "    <tr>\n",
       "      <th>4382</th>\n",
       "      <td>2017-12-31</td>\n",
       "      <td>1107.11488</td>\n",
       "      <td>721.176</td>\n",
       "      <td>19.980</td>\n",
       "      <td>741.156</td>\n",
       "    </tr>\n",
       "  </tbody>\n",
       "</table></div>"
      ],
      "text/plain": [
       "            Date  Consumption     Wind   Solar  Wind+Solar\n",
       "0     2006-01-01   1069.18400      NaN     NaN         NaN\n",
       "1     2006-01-02   1380.52100      NaN     NaN         NaN\n",
       "2     2006-01-03   1442.53300      NaN     NaN         NaN\n",
       "3     2006-01-04   1457.21700      NaN     NaN         NaN\n",
       "4     2006-01-05   1477.13100      NaN     NaN         NaN\n",
       "...          ...          ...      ...     ...         ...\n",
       "4378  2017-12-27   1263.94091  394.507  16.530     411.037\n",
       "4379  2017-12-28   1299.86398  506.424  14.162     520.586\n",
       "4380  2017-12-29   1295.08753  584.277  29.854     614.131\n",
       "4381  2017-12-30   1215.44897  721.247   7.467     728.714\n",
       "4382  2017-12-31   1107.11488  721.176  19.980     741.156\n",
       "\n",
       "[4383 rows x 5 columns]"
      ]
     },
     "execution_count": 9,
     "metadata": {},
     "output_type": "execute_result"
    }
   ],
   "source": [
    "a.get_power()"
   ]
  },
  {
   "cell_type": "code",
   "execution_count": 10,
   "id": "f4541e37",
   "metadata": {},
   "outputs": [
    {
     "name": "stdout",
     "output_type": "stream",
     "text": [
      "Power data is cached. Reading to df...\n",
      "✅ Power data acquired from local csv file\n"
     ]
    },
    {
     "data": {
      "text/html": [
       "<div><div id=10f0739b-e250-4e9e-93c3-8bbe6d990390 style=\"display:none; background-color:#9D6CFF; color:white; width:200px; height:30px; padding-left:5px; border-radius:4px; flex-direction:row; justify-content:space-around; align-items:center;\" onmouseover=\"this.style.backgroundColor='#BA9BF8'\" onmouseout=\"this.style.backgroundColor='#9D6CFF'\" onclick=\"window.commands?.execute('create-mitosheet-from-dataframe-output');\">See Full Dataframe in Mito</div> <script> if (window.commands.hasCommand('create-mitosheet-from-dataframe-output')) document.getElementById('10f0739b-e250-4e9e-93c3-8bbe6d990390').style.display = 'flex' </script> <table border=\"1\" class=\"dataframe\">\n",
       "  <thead>\n",
       "    <tr style=\"text-align: right;\">\n",
       "      <th></th>\n",
       "      <th>Unnamed: 0</th>\n",
       "      <th>Date</th>\n",
       "      <th>Consumption</th>\n",
       "      <th>Wind</th>\n",
       "      <th>Solar</th>\n",
       "      <th>Wind+Solar</th>\n",
       "    </tr>\n",
       "  </thead>\n",
       "  <tbody>\n",
       "    <tr>\n",
       "      <th>0</th>\n",
       "      <td>0</td>\n",
       "      <td>2006-01-01</td>\n",
       "      <td>1069.18400</td>\n",
       "      <td>NaN</td>\n",
       "      <td>NaN</td>\n",
       "      <td>NaN</td>\n",
       "    </tr>\n",
       "    <tr>\n",
       "      <th>1</th>\n",
       "      <td>1</td>\n",
       "      <td>2006-01-02</td>\n",
       "      <td>1380.52100</td>\n",
       "      <td>NaN</td>\n",
       "      <td>NaN</td>\n",
       "      <td>NaN</td>\n",
       "    </tr>\n",
       "    <tr>\n",
       "      <th>2</th>\n",
       "      <td>2</td>\n",
       "      <td>2006-01-03</td>\n",
       "      <td>1442.53300</td>\n",
       "      <td>NaN</td>\n",
       "      <td>NaN</td>\n",
       "      <td>NaN</td>\n",
       "    </tr>\n",
       "    <tr>\n",
       "      <th>3</th>\n",
       "      <td>3</td>\n",
       "      <td>2006-01-04</td>\n",
       "      <td>1457.21700</td>\n",
       "      <td>NaN</td>\n",
       "      <td>NaN</td>\n",
       "      <td>NaN</td>\n",
       "    </tr>\n",
       "    <tr>\n",
       "      <th>4</th>\n",
       "      <td>4</td>\n",
       "      <td>2006-01-05</td>\n",
       "      <td>1477.13100</td>\n",
       "      <td>NaN</td>\n",
       "      <td>NaN</td>\n",
       "      <td>NaN</td>\n",
       "    </tr>\n",
       "    <tr>\n",
       "      <th>...</th>\n",
       "      <td>...</td>\n",
       "      <td>...</td>\n",
       "      <td>...</td>\n",
       "      <td>...</td>\n",
       "      <td>...</td>\n",
       "      <td>...</td>\n",
       "    </tr>\n",
       "    <tr>\n",
       "      <th>4378</th>\n",
       "      <td>4378</td>\n",
       "      <td>2017-12-27</td>\n",
       "      <td>1263.94091</td>\n",
       "      <td>394.507</td>\n",
       "      <td>16.530</td>\n",
       "      <td>411.037</td>\n",
       "    </tr>\n",
       "    <tr>\n",
       "      <th>4379</th>\n",
       "      <td>4379</td>\n",
       "      <td>2017-12-28</td>\n",
       "      <td>1299.86398</td>\n",
       "      <td>506.424</td>\n",
       "      <td>14.162</td>\n",
       "      <td>520.586</td>\n",
       "    </tr>\n",
       "    <tr>\n",
       "      <th>4380</th>\n",
       "      <td>4380</td>\n",
       "      <td>2017-12-29</td>\n",
       "      <td>1295.08753</td>\n",
       "      <td>584.277</td>\n",
       "      <td>29.854</td>\n",
       "      <td>614.131</td>\n",
       "    </tr>\n",
       "    <tr>\n",
       "      <th>4381</th>\n",
       "      <td>4381</td>\n",
       "      <td>2017-12-30</td>\n",
       "      <td>1215.44897</td>\n",
       "      <td>721.247</td>\n",
       "      <td>7.467</td>\n",
       "      <td>728.714</td>\n",
       "    </tr>\n",
       "    <tr>\n",
       "      <th>4382</th>\n",
       "      <td>4382</td>\n",
       "      <td>2017-12-31</td>\n",
       "      <td>1107.11488</td>\n",
       "      <td>721.176</td>\n",
       "      <td>19.980</td>\n",
       "      <td>741.156</td>\n",
       "    </tr>\n",
       "  </tbody>\n",
       "</table></div>"
      ],
      "text/plain": [
       "      Unnamed: 0        Date  Consumption     Wind   Solar  Wind+Solar\n",
       "0              0  2006-01-01   1069.18400      NaN     NaN         NaN\n",
       "1              1  2006-01-02   1380.52100      NaN     NaN         NaN\n",
       "2              2  2006-01-03   1442.53300      NaN     NaN         NaN\n",
       "3              3  2006-01-04   1457.21700      NaN     NaN         NaN\n",
       "4              4  2006-01-05   1477.13100      NaN     NaN         NaN\n",
       "...          ...         ...          ...      ...     ...         ...\n",
       "4378        4378  2017-12-27   1263.94091  394.507  16.530     411.037\n",
       "4379        4379  2017-12-28   1299.86398  506.424  14.162     520.586\n",
       "4380        4380  2017-12-29   1295.08753  584.277  29.854     614.131\n",
       "4381        4381  2017-12-30   1215.44897  721.247   7.467     728.714\n",
       "4382        4382  2017-12-31   1107.11488  721.176  19.980     741.156\n",
       "\n",
       "[4383 rows x 6 columns]"
      ]
     },
     "execution_count": 10,
     "metadata": {},
     "output_type": "execute_result"
    }
   ],
   "source": [
    "a.get_power()"
   ]
  },
  {
   "cell_type": "code",
   "execution_count": null,
   "id": "93d5137a",
   "metadata": {},
   "outputs": [],
   "source": []
  }
 ],
 "metadata": {
  "kernelspec": {
   "display_name": "Python 3",
   "language": "python",
   "name": "python3"
  },
  "language_info": {
   "codemirror_mode": {
    "name": "ipython",
    "version": 3
   },
   "file_extension": ".py",
   "mimetype": "text/x-python",
   "name": "python",
   "nbconvert_exporter": "python",
   "pygments_lexer": "ipython3",
   "version": "3.8.8"
  }
 },
 "nbformat": 4,
 "nbformat_minor": 5
}
