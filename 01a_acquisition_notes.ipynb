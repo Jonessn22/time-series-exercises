{
 "cells": [
  {
   "cell_type": "markdown",
   "id": "161b4129",
   "metadata": {},
   "source": [
    "# Definitions"
   ]
  },
  {
   "cell_type": "code",
   "execution_count": 2,
   "id": "504636db",
   "metadata": {},
   "outputs": [
    {
     "data": {
      "text/plain": [
       "[{'id': 1, 'name': 'billy', 'grades': [90, 79, 80, 81]},\n",
       " {'id': 2, 'name': 'sally', 'grades': [90, 96, 91, 88]},\n",
       " {'id': 3, 'name': 'margaret', 'grades': [78, 91, 99, 86]}]"
      ]
     },
     "execution_count": 2,
     "metadata": {},
     "output_type": "execute_result"
    }
   ],
   "source": [
    "# json data structure\n",
    "\n",
    "[\n",
    "    {\"id\": 1, \"name\": \"billy\", \"grades\": [90, 79, 80, 81]}, #object 1\n",
    "    {\"id\": 2, \"name\": \"sally\", \"grades\": [90, 96, 91, 88]}, #object 2\n",
    "    {\"id\": 3, \"name\": \"margaret\", \"grades\": [78, 91, 99, 86]} #object 3\n",
    "]\n",
    "\n",
    "# each observation represents an object"
   ]
  },
  {
   "cell_type": "code",
   "execution_count": null,
   "id": "8813b1ba",
   "metadata": {},
   "outputs": [],
   "source": []
  },
  {
   "cell_type": "code",
   "execution_count": null,
   "id": "e9a8016f",
   "metadata": {},
   "outputs": [],
   "source": []
  },
  {
   "cell_type": "code",
   "execution_count": null,
   "id": "d6f68591",
   "metadata": {},
   "outputs": [],
   "source": []
  },
  {
   "cell_type": "code",
   "execution_count": null,
   "id": "b4637e16",
   "metadata": {},
   "outputs": [],
   "source": []
  },
  {
   "cell_type": "code",
   "execution_count": null,
   "id": "2b54245f",
   "metadata": {},
   "outputs": [],
   "source": []
  },
  {
   "cell_type": "markdown",
   "id": "653771dd",
   "metadata": {},
   "source": [
    "# HTTP Requests"
   ]
  },
  {
   "cell_type": "code",
   "execution_count": null,
   "id": "e8b94b72",
   "metadata": {},
   "outputs": [],
   "source": []
  },
  {
   "cell_type": "markdown",
   "id": "4fcfd3e4",
   "metadata": {},
   "source": [
    "# JSON API\n",
    "- `'payload'` string is coming from json `dict_keys`\n",
    "`response.json()['payload']`"
   ]
  },
  {
   "cell_type": "code",
   "execution_count": null,
   "id": "661fb545",
   "metadata": {},
   "outputs": [],
   "source": []
  }
 ],
 "metadata": {
  "kernelspec": {
   "display_name": "Python 3",
   "language": "python",
   "name": "python3"
  },
  "language_info": {
   "codemirror_mode": {
    "name": "ipython",
    "version": 3
   },
   "file_extension": ".py",
   "mimetype": "text/x-python",
   "name": "python",
   "nbconvert_exporter": "python",
   "pygments_lexer": "ipython3",
   "version": "3.8.8"
  }
 },
 "nbformat": 4,
 "nbformat_minor": 5
}
